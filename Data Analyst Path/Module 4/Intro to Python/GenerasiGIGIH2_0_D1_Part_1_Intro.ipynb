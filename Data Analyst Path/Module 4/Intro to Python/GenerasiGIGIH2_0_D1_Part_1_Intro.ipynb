{
  "nbformat": 4,
  "nbformat_minor": 0,
  "metadata": {
    "kernelspec": {
      "display_name": "Python 3",
      "language": "python",
      "name": "python3"
    },
    "language_info": {
      "codemirror_mode": {
        "name": "ipython",
        "version": 3
      },
      "file_extension": ".py",
      "mimetype": "text/x-python",
      "name": "python",
      "nbconvert_exporter": "python",
      "pygments_lexer": "ipython3",
      "version": "3.7.6"
    },
    "varInspector": {
      "cols": {
        "lenName": 16,
        "lenType": 16,
        "lenVar": 40
      },
      "kernels_config": {
        "python": {
          "delete_cmd_postfix": "",
          "delete_cmd_prefix": "del ",
          "library": "var_list.py",
          "varRefreshCmd": "print(var_dic_list())"
        },
        "r": {
          "delete_cmd_postfix": ") ",
          "delete_cmd_prefix": "rm(",
          "library": "var_list.r",
          "varRefreshCmd": "cat(var_dic_list()) "
        }
      },
      "oldHeight": 122.4,
      "position": {
        "height": "204.391px",
        "left": "1496.39px",
        "right": "20px",
        "top": "136px",
        "width": "371px"
      },
      "types_to_exclude": [
        "module",
        "function",
        "builtin_function_or_method",
        "instance",
        "_Feature"
      ],
      "varInspector_section_display": "block",
      "window_display": false
    },
    "colab": {
      "name": "GenerasiGIGIH2.0 D1 Part 1 - Intro",
      "provenance": []
    }
  },
  "cells": [
    {
      "cell_type": "markdown",
      "metadata": {
        "id": "DVHj7ne4MJSb"
      },
      "source": [
        "# Module 4 - Introduction to Python"
      ]
    },
    {
      "cell_type": "markdown",
      "metadata": {
        "id": "tqMEZgJuMJSd"
      },
      "source": [
        "This notebook will go through the basic topics in order:\n",
        "* Data types\n",
        "    * Strings\n",
        "    * Numbers\n",
        "    * Sequence (list, tuple, sets)\n",
        "    * Dict\n",
        "    * Boolean\n",
        "* Assign Values\n",
        "* Output Variables\n",
        "* Operators (arithmetic,  assignment, comparison, bitwise, etc)\n",
        "* if, elif, else Statements\n",
        "* Functions\n",
        "* Loops\n",
        "* Lambda expressions\n",
        "* Classes/Objects\n",
        "\n",
        "---\n",
        "\n",
        "\n",
        "____"
      ]
    },
    {
      "cell_type": "markdown",
      "metadata": {
        "id": "oX-IHgFqMJSe"
      },
      "source": [
        "## Data types"
      ]
    },
    {
      "cell_type": "markdown",
      "metadata": {
        "id": "Ch-K46BPMJSk"
      },
      "source": [
        "### Strings"
      ]
    },
    {
      "cell_type": "code",
      "metadata": {
        "id": "hnWHPwtiMJSk"
      },
      "source": [
        "'single quotes'"
      ],
      "execution_count": null,
      "outputs": []
    },
    {
      "cell_type": "code",
      "metadata": {
        "id": "XUNelOxJMJSk"
      },
      "source": [
        "\"double quotes\""
      ],
      "execution_count": null,
      "outputs": []
    },
    {
      "cell_type": "code",
      "metadata": {
        "id": "rsMZVg-AMJSk"
      },
      "source": [
        "\" wrap lot's of other quotes\""
      ],
      "execution_count": null,
      "outputs": []
    },
    {
      "cell_type": "code",
      "metadata": {
        "id": "9BvLvYsiMJSk"
      },
      "source": [
        "q = \"\"\"\n",
        "abcd\n",
        "efgh\n",
        "ijkl\n",
        "\"\"\"\n",
        "print(q)"
      ],
      "execution_count": null,
      "outputs": []
    },
    {
      "cell_type": "markdown",
      "metadata": {
        "id": "jPniUR5xBBI7"
      },
      "source": [
        "### Numbers and Operators"
      ]
    },
    {
      "cell_type": "code",
      "metadata": {
        "id": "uVCgl92OMJSe"
      },
      "source": [
        "2+3"
      ],
      "execution_count": null,
      "outputs": []
    },
    {
      "cell_type": "code",
      "metadata": {
        "id": "x1q5wmX3MJSf"
      },
      "source": [
        "1 - 1"
      ],
      "execution_count": null,
      "outputs": []
    },
    {
      "cell_type": "code",
      "metadata": {
        "id": "f3PqVlCQMJSf"
      },
      "source": [
        "\"1\""
      ],
      "execution_count": null,
      "outputs": []
    },
    {
      "cell_type": "code",
      "metadata": {
        "id": "q1_LqOohMJSg"
      },
      "source": [
        "1"
      ],
      "execution_count": null,
      "outputs": []
    },
    {
      "cell_type": "code",
      "metadata": {
        "scrolled": true,
        "id": "Yy8HG0byMJSg"
      },
      "source": [
        "print(\"1\")"
      ],
      "execution_count": null,
      "outputs": []
    },
    {
      "cell_type": "code",
      "metadata": {
        "id": "qsE3uQKPMJSh"
      },
      "source": [
        "1 * 3"
      ],
      "execution_count": null,
      "outputs": []
    },
    {
      "cell_type": "code",
      "metadata": {
        "id": "BBHhf2KSMJSh"
      },
      "source": [
        "7 / 3"
      ],
      "execution_count": null,
      "outputs": []
    },
    {
      "cell_type": "code",
      "metadata": {
        "id": "iIVi9Bg4MJSh"
      },
      "source": [
        "#Integer Division\n",
        "7 // 3"
      ],
      "execution_count": null,
      "outputs": []
    },
    {
      "cell_type": "code",
      "metadata": {
        "id": "TAX8S4pTMJSi"
      },
      "source": [
        "#Raised to the Power\n",
        "2 ** 3"
      ],
      "execution_count": null,
      "outputs": []
    },
    {
      "cell_type": "code",
      "metadata": {
        "id": "qQS4mCFKMJSi"
      },
      "source": [
        "#Remainder\n",
        "4 % 2"
      ],
      "execution_count": null,
      "outputs": []
    },
    {
      "cell_type": "code",
      "metadata": {
        "id": "yedxMr-0MJSi"
      },
      "source": [
        "#Remainder\n",
        "5 % 2"
      ],
      "execution_count": null,
      "outputs": []
    },
    {
      "cell_type": "code",
      "metadata": {
        "id": "lvzGdFg3MJSi"
      },
      "source": [
        "(2 + 3) * (5 + 5)"
      ],
      "execution_count": null,
      "outputs": []
    },
    {
      "cell_type": "markdown",
      "metadata": {
        "id": "k5Jn5PWiMJSl"
      },
      "source": [
        "### Lists\n"
      ]
    },
    {
      "cell_type": "markdown",
      "metadata": {
        "id": "VC0C0Qp9C1UK"
      },
      "source": [
        "Created with `[]` bracket, used to contain data"
      ]
    },
    {
      "cell_type": "code",
      "metadata": {
        "id": "fCZTMKEmMJSl"
      },
      "source": [
        "[1,2,3]"
      ],
      "execution_count": null,
      "outputs": []
    },
    {
      "cell_type": "code",
      "metadata": {
        "id": "UdNSapHyMJSm"
      },
      "source": [
        "['hi',1,1.25,[1,2]]"
      ],
      "execution_count": null,
      "outputs": []
    },
    {
      "cell_type": "code",
      "metadata": {
        "id": "iUeHjMQNMJSm"
      },
      "source": [
        "my_list = ['a','b','c']"
      ],
      "execution_count": null,
      "outputs": []
    },
    {
      "cell_type": "code",
      "metadata": {
        "id": "ldGal7kOMJSm"
      },
      "source": [
        "my_list.append('d')"
      ],
      "execution_count": null,
      "outputs": []
    },
    {
      "cell_type": "code",
      "metadata": {
        "id": "VXdQe5Z1MJSm"
      },
      "source": [
        "my_list"
      ],
      "execution_count": null,
      "outputs": []
    },
    {
      "cell_type": "code",
      "metadata": {
        "id": "t3POlfv9MJSm"
      },
      "source": [
        "my_list[0]"
      ],
      "execution_count": null,
      "outputs": []
    },
    {
      "cell_type": "code",
      "metadata": {
        "id": "OueA156pMJSm"
      },
      "source": [
        "my_list[1]"
      ],
      "execution_count": null,
      "outputs": []
    },
    {
      "cell_type": "code",
      "metadata": {
        "id": "G9oEc0cAMJSm"
      },
      "source": [
        "my_list[1:3]"
      ],
      "execution_count": null,
      "outputs": []
    },
    {
      "cell_type": "code",
      "metadata": {
        "id": "xJ0-mkXNMJSm"
      },
      "source": [
        "my_list[1:]"
      ],
      "execution_count": null,
      "outputs": []
    },
    {
      "cell_type": "code",
      "metadata": {
        "id": "1PSqRrBHMJSn"
      },
      "source": [
        "my_list[:1]"
      ],
      "execution_count": null,
      "outputs": []
    },
    {
      "cell_type": "code",
      "metadata": {
        "id": "MripiXB-MJSn"
      },
      "source": [
        "my_list[0] = 'NEW'"
      ],
      "execution_count": null,
      "outputs": []
    },
    {
      "cell_type": "code",
      "metadata": {
        "id": "rRDz6Z0vMJSn"
      },
      "source": [
        "my_list"
      ],
      "execution_count": null,
      "outputs": []
    },
    {
      "cell_type": "code",
      "metadata": {
        "id": "Uqu1X3VOMJSn"
      },
      "source": [
        "nest = [1,2,3,[4,5,['target']]]"
      ],
      "execution_count": null,
      "outputs": []
    },
    {
      "cell_type": "code",
      "metadata": {
        "id": "lflqCnCJMJSn"
      },
      "source": [
        "nest[3]"
      ],
      "execution_count": null,
      "outputs": []
    },
    {
      "cell_type": "code",
      "metadata": {
        "id": "kEtVvRGJMJSn"
      },
      "source": [
        "nest[3][2]"
      ],
      "execution_count": null,
      "outputs": []
    },
    {
      "cell_type": "code",
      "metadata": {
        "id": "Y2UJtVbWMJSn"
      },
      "source": [
        "nest[3][2][0]"
      ],
      "execution_count": null,
      "outputs": []
    },
    {
      "cell_type": "code",
      "metadata": {
        "id": "t86Zu1pKMJSn"
      },
      "source": [
        "nest[2][1][0]"
      ],
      "execution_count": null,
      "outputs": []
    },
    {
      "cell_type": "markdown",
      "metadata": {
        "id": "w28PcHFPMJSn"
      },
      "source": [
        "### Dictionaries"
      ]
    },
    {
      "cell_type": "code",
      "metadata": {
        "id": "wIFqRbwOMJSn"
      },
      "source": [
        "d = {'key1':'item1',2:1}"
      ],
      "execution_count": null,
      "outputs": []
    },
    {
      "cell_type": "code",
      "metadata": {
        "id": "Akbup8n0MJSn"
      },
      "source": [
        "d"
      ],
      "execution_count": null,
      "outputs": []
    },
    {
      "cell_type": "code",
      "metadata": {
        "id": "Amb8hmnTMJSo"
      },
      "source": [
        "d['key1']"
      ],
      "execution_count": null,
      "outputs": []
    },
    {
      "cell_type": "code",
      "metadata": {
        "id": "Lms8xDvlMJSo"
      },
      "source": [
        "d.keys()"
      ],
      "execution_count": null,
      "outputs": []
    },
    {
      "cell_type": "markdown",
      "metadata": {
        "id": "OjHHfYfJB0VU"
      },
      "source": [
        "### Boolean"
      ]
    },
    {
      "cell_type": "code",
      "metadata": {
        "id": "ZrhE0UjRCMDx"
      },
      "source": [
        "2 + 4 < 10"
      ],
      "execution_count": null,
      "outputs": []
    },
    {
      "cell_type": "code",
      "metadata": {
        "id": "F5kBH1JaCOef"
      },
      "source": [
        "34567 < 8910"
      ],
      "execution_count": null,
      "outputs": []
    },
    {
      "cell_type": "code",
      "metadata": {
        "id": "sGx98GB8CccE"
      },
      "source": [
        "\"go\" + \"jek\" == \"gojek\""
      ],
      "execution_count": null,
      "outputs": []
    },
    {
      "cell_type": "code",
      "metadata": {
        "id": "SrELdt28CWuF"
      },
      "source": [
        "\"go\" + \"jek\" == \"goto\""
      ],
      "execution_count": null,
      "outputs": []
    },
    {
      "cell_type": "code",
      "metadata": {
        "id": "uQMrHEjrB3n5"
      },
      "source": [
        "10 % 2 == 0"
      ],
      "execution_count": null,
      "outputs": []
    },
    {
      "cell_type": "markdown",
      "metadata": {
        "id": "z4t5mn9iMJSj"
      },
      "source": [
        "## Variable Assignment"
      ]
    },
    {
      "cell_type": "code",
      "metadata": {
        "id": "2btOUY7QMJSj"
      },
      "source": [
        "# Can not start with number or special characters\n",
        "name_of_var = 2"
      ],
      "execution_count": null,
      "outputs": []
    },
    {
      "cell_type": "code",
      "metadata": {
        "id": "Z3L7BzBaBdO_"
      },
      "source": [
        "x = 2\n",
        "y = 3.0"
      ],
      "execution_count": null,
      "outputs": []
    },
    {
      "cell_type": "code",
      "metadata": {
        "id": "--HDbbs9BfSY"
      },
      "source": [
        "z = x + y"
      ],
      "execution_count": null,
      "outputs": []
    },
    {
      "cell_type": "code",
      "metadata": {
        "id": "nslZdjp7Bgqa"
      },
      "source": [
        "z"
      ],
      "execution_count": null,
      "outputs": []
    },
    {
      "cell_type": "code",
      "metadata": {
        "id": "ORoepJikBiCH"
      },
      "source": [
        "print(z)"
      ],
      "execution_count": null,
      "outputs": []
    },
    {
      "cell_type": "markdown",
      "metadata": {
        "id": "DWwDjeSzMJSk"
      },
      "source": [
        "### Printing"
      ]
    },
    {
      "cell_type": "code",
      "metadata": {
        "id": "WdA6MTQVMJSk"
      },
      "source": [
        "x = 'hello'"
      ],
      "execution_count": null,
      "outputs": []
    },
    {
      "cell_type": "code",
      "metadata": {
        "id": "zIJsiHJLMJSk"
      },
      "source": [
        "x"
      ],
      "execution_count": null,
      "outputs": []
    },
    {
      "cell_type": "code",
      "metadata": {
        "id": "qlSKLyVoMJSl"
      },
      "source": [
        "print(x)"
      ],
      "execution_count": null,
      "outputs": []
    },
    {
      "cell_type": "code",
      "metadata": {
        "id": "39p4GIShMJSl"
      },
      "source": [
        "num = 12.5\n",
        "name = 'Sam'"
      ],
      "execution_count": null,
      "outputs": []
    },
    {
      "cell_type": "code",
      "metadata": {
        "id": "yTL0r5K2MJSl"
      },
      "source": [
        "print('My number is: {one}, and my name is: {two}'.format(one=num,two=name))"
      ],
      "execution_count": null,
      "outputs": []
    },
    {
      "cell_type": "code",
      "metadata": {
        "id": "CImLDizwMJSl"
      },
      "source": [
        "print('My number is: {}, and my name is: {}'.format(num,name))"
      ],
      "execution_count": null,
      "outputs": []
    },
    {
      "cell_type": "code",
      "metadata": {
        "id": "zcLmVRZSMJSl"
      },
      "source": [
        "print('My number is: %s, and my name is: %s'%(num,name))"
      ],
      "execution_count": null,
      "outputs": []
    },
    {
      "cell_type": "markdown",
      "metadata": {
        "id": "5BJQcXROMJSo"
      },
      "source": [
        "### Booleans"
      ]
    },
    {
      "cell_type": "code",
      "metadata": {
        "id": "Aqgtd96AMJSo"
      },
      "source": [
        "True"
      ],
      "execution_count": null,
      "outputs": []
    },
    {
      "cell_type": "code",
      "metadata": {
        "id": "MyHOYUnIMJSo"
      },
      "source": [
        "False"
      ],
      "execution_count": null,
      "outputs": []
    },
    {
      "cell_type": "markdown",
      "metadata": {
        "id": "4ByFpcSLMJSo"
      },
      "source": [
        "### Tuples "
      ]
    },
    {
      "cell_type": "code",
      "metadata": {
        "id": "fGrK8cJRMJSo"
      },
      "source": [
        "t = (1,2,3)"
      ],
      "execution_count": null,
      "outputs": []
    },
    {
      "cell_type": "code",
      "metadata": {
        "id": "9isHqOt-MJSo"
      },
      "source": [
        "#Cannot append or add\n",
        "t.add(4)"
      ],
      "execution_count": null,
      "outputs": []
    },
    {
      "cell_type": "code",
      "metadata": {
        "id": "7SelQZUKMJSo"
      },
      "source": [
        "t[0]"
      ],
      "execution_count": null,
      "outputs": []
    },
    {
      "cell_type": "code",
      "metadata": {
        "id": "i-CMh9tNMJSo"
      },
      "source": [
        "t[0] = 'NEW'"
      ],
      "execution_count": null,
      "outputs": []
    },
    {
      "cell_type": "markdown",
      "metadata": {
        "id": "Yn0IqD1zMJSo"
      },
      "source": [
        "### Sets"
      ]
    },
    {
      "cell_type": "code",
      "metadata": {
        "id": "XMFd9g4GMJSp"
      },
      "source": [
        "x = {1,2,3}\n",
        "x[0]"
      ],
      "execution_count": null,
      "outputs": []
    },
    {
      "cell_type": "code",
      "metadata": {
        "id": "bJxgdcRNMJSp"
      },
      "source": [
        "x = {2,3,1,2,1,2,3,3,3,3,2,2,2,1,1,2}\n",
        "x"
      ],
      "execution_count": null,
      "outputs": []
    },
    {
      "cell_type": "code",
      "metadata": {
        "id": "Ryc9B9cOMJSp"
      },
      "source": [
        "x[0] = 5"
      ],
      "execution_count": null,
      "outputs": []
    },
    {
      "cell_type": "code",
      "metadata": {
        "id": "79XPjZ4sMJSp"
      },
      "source": [
        "x.add(5)\n",
        "x"
      ],
      "execution_count": null,
      "outputs": []
    },
    {
      "cell_type": "code",
      "metadata": {
        "id": "UVj4efAJMJSp"
      },
      "source": [
        "x.pop()\n",
        "x"
      ],
      "execution_count": null,
      "outputs": []
    },
    {
      "cell_type": "code",
      "metadata": {
        "id": "oU1KUf6pMJSp"
      },
      "source": [
        "1 > 2"
      ],
      "execution_count": null,
      "outputs": []
    },
    {
      "cell_type": "code",
      "metadata": {
        "id": "mQq2zTiQMJSp"
      },
      "source": [
        "1 < 2"
      ],
      "execution_count": null,
      "outputs": []
    },
    {
      "cell_type": "code",
      "metadata": {
        "id": "SEoKgLnmMJSp"
      },
      "source": [
        "1 >= 1"
      ],
      "execution_count": null,
      "outputs": []
    },
    {
      "cell_type": "code",
      "metadata": {
        "id": "tpW8vKwYMJSp"
      },
      "source": [
        "1 <= 4"
      ],
      "execution_count": null,
      "outputs": []
    },
    {
      "cell_type": "code",
      "metadata": {
        "id": "Ezfuar0eMJSp"
      },
      "source": [
        "1 == 1"
      ],
      "execution_count": null,
      "outputs": []
    },
    {
      "cell_type": "code",
      "metadata": {
        "id": "V5FdRT-kMJSp"
      },
      "source": [
        "'hi'!= 'bye'"
      ],
      "execution_count": null,
      "outputs": []
    },
    {
      "cell_type": "markdown",
      "metadata": {
        "id": "jEDacfUHMJSq"
      },
      "source": [
        "## Logic Operators"
      ]
    },
    {
      "cell_type": "code",
      "metadata": {
        "id": "lWHEU0t5sdGB"
      },
      "source": [
        "1 > 2"
      ],
      "execution_count": null,
      "outputs": []
    },
    {
      "cell_type": "code",
      "metadata": {
        "id": "6BsNHUKZtNbo"
      },
      "source": [
        "1 < 2"
      ],
      "execution_count": null,
      "outputs": []
    },
    {
      "cell_type": "code",
      "metadata": {
        "id": "c-_d4TmltPTi"
      },
      "source": [
        "1 >= 1"
      ],
      "execution_count": null,
      "outputs": []
    },
    {
      "cell_type": "code",
      "metadata": {
        "id": "hjjUvhN4tR0M"
      },
      "source": [
        "1 <= 4"
      ],
      "execution_count": null,
      "outputs": []
    },
    {
      "cell_type": "code",
      "metadata": {
        "id": "IFGfTNu5tTUI"
      },
      "source": [
        "1 == 1"
      ],
      "execution_count": null,
      "outputs": []
    },
    {
      "cell_type": "code",
      "metadata": {
        "id": "9kpPKLoQtVHJ"
      },
      "source": [
        "'hi'!= 'bye'"
      ],
      "execution_count": null,
      "outputs": []
    },
    {
      "cell_type": "code",
      "metadata": {
        "id": "ogSWT5nQMJSq"
      },
      "source": [
        "(1 > 2) and (2 < 3)"
      ],
      "execution_count": null,
      "outputs": []
    },
    {
      "cell_type": "code",
      "metadata": {
        "id": "n1OOZpesMJSq"
      },
      "source": [
        "(1 > 2) or (2 < 3)"
      ],
      "execution_count": null,
      "outputs": []
    },
    {
      "cell_type": "code",
      "metadata": {
        "id": "Xaz66pZpMJSq"
      },
      "source": [
        "(1 == 2) or (2 == 3) or (4 == 4)"
      ],
      "execution_count": null,
      "outputs": []
    },
    {
      "cell_type": "code",
      "metadata": {
        "id": "QyRsK9DXMJSq"
      },
      "source": [
        "not(1!=2)"
      ],
      "execution_count": null,
      "outputs": []
    },
    {
      "cell_type": "markdown",
      "metadata": {
        "id": "M2zWqcSBMJSq"
      },
      "source": [
        "## if,elif, else Statements"
      ]
    },
    {
      "cell_type": "code",
      "metadata": {
        "id": "PyeXmsZOMJSq"
      },
      "source": [
        "if 1 > 2:\n",
        "    print('Yep!')\n",
        "print('Test')"
      ],
      "execution_count": null,
      "outputs": []
    },
    {
      "cell_type": "code",
      "metadata": {
        "id": "dhu28wb3MJSq"
      },
      "source": [
        "if 1 < 2:\n",
        "    print('Yep!')\n",
        "    print(1+2)\n",
        "    print('Hello World!')\n",
        "\n",
        "print('Test')"
      ],
      "execution_count": null,
      "outputs": []
    },
    {
      "cell_type": "code",
      "metadata": {
        "id": "q9rMgx5fMJSq"
      },
      "source": [
        "if 1 < 2:\n",
        "    print('first')\n",
        "else:\n",
        "    print('last')"
      ],
      "execution_count": null,
      "outputs": []
    },
    {
      "cell_type": "code",
      "metadata": {
        "id": "cha3pF4OMJSq"
      },
      "source": [
        "if 1 > 2:\n",
        "    print('first')\n",
        "else:\n",
        "    print('last')"
      ],
      "execution_count": null,
      "outputs": []
    },
    {
      "cell_type": "code",
      "metadata": {
        "id": "lLE2vXmwMJSq"
      },
      "source": [
        "if 1 == 2:\n",
        "    print('first')\n",
        "elif 3 == 3:\n",
        "    print('middle')\n",
        "    if 1<2:\n",
        "        print(\"checking\")\n",
        "else:\n",
        "    print('Last')\n",
        "    \n",
        "print(\"The End\")"
      ],
      "execution_count": null,
      "outputs": []
    },
    {
      "cell_type": "markdown",
      "metadata": {
        "id": "zcDt7eMDMJSr"
      },
      "source": [
        "## range()"
      ]
    },
    {
      "cell_type": "code",
      "metadata": {
        "id": "MP5FRcb2MJSr"
      },
      "source": [
        "range(5)"
      ],
      "execution_count": null,
      "outputs": []
    },
    {
      "cell_type": "code",
      "metadata": {
        "id": "bdmQqkIXMJSr"
      },
      "source": [
        "for i in range(5):\n",
        "    print(i)"
      ],
      "execution_count": null,
      "outputs": []
    },
    {
      "cell_type": "code",
      "metadata": {
        "id": "hM9GsoluMJSs"
      },
      "source": [
        "list(range(5))"
      ],
      "execution_count": null,
      "outputs": []
    },
    {
      "cell_type": "code",
      "metadata": {
        "id": "5_TsKr9RMJSs"
      },
      "source": [
        "#Help for any function\n",
        "?range"
      ],
      "execution_count": null,
      "outputs": []
    },
    {
      "cell_type": "code",
      "metadata": {
        "id": "3QPuWrvbMJSs"
      },
      "source": [
        "range()"
      ],
      "execution_count": null,
      "outputs": []
    },
    {
      "cell_type": "code",
      "metadata": {
        "id": "IdAuR1KRMJSs"
      },
      "source": [
        "list(range(1,11,3))"
      ],
      "execution_count": null,
      "outputs": []
    },
    {
      "cell_type": "markdown",
      "metadata": {
        "id": "DYxdqCmkMJSs"
      },
      "source": [
        "## functions"
      ]
    },
    {
      "cell_type": "code",
      "metadata": {
        "id": "LPF48cd4MJSs"
      },
      "source": [
        "def my_func(param1='abc'):\n",
        "    \"\"\"\n",
        "    Docstring goes here.\n",
        "    Put in more details about the parameters.\n",
        "    \"\"\"\n",
        "    print(param1)\n",
        "\n",
        "my_func(123)"
      ],
      "execution_count": null,
      "outputs": []
    },
    {
      "cell_type": "code",
      "metadata": {
        "id": "4jXJBTHOMJSt"
      },
      "source": [
        "my_func"
      ],
      "execution_count": null,
      "outputs": []
    },
    {
      "cell_type": "code",
      "metadata": {
        "id": "Xk6jyTdOMJSt"
      },
      "source": [
        "my_func()"
      ],
      "execution_count": null,
      "outputs": []
    },
    {
      "cell_type": "code",
      "metadata": {
        "id": "SWM7gfYXMJSt"
      },
      "source": [
        "my_func('new 1')"
      ],
      "execution_count": null,
      "outputs": []
    },
    {
      "cell_type": "code",
      "metadata": {
        "id": "_6EVp2nCMJSt"
      },
      "source": [
        "?my_func"
      ],
      "execution_count": null,
      "outputs": []
    },
    {
      "cell_type": "code",
      "metadata": {
        "id": "VCpRh1xgMJSt"
      },
      "source": [
        "my_func(param1='new param')"
      ],
      "execution_count": null,
      "outputs": []
    },
    {
      "cell_type": "code",
      "metadata": {
        "id": "CW0-duSHMJSt"
      },
      "source": [
        "def square(x):\n",
        "    \"\"\"\n",
        "    This function returns the square of any number passed as a parameter\n",
        "    \"\"\"\n",
        "    return x**2"
      ],
      "execution_count": null,
      "outputs": []
    },
    {
      "cell_type": "code",
      "metadata": {
        "id": "0Fkv-N_vMJSt"
      },
      "source": [
        "?square"
      ],
      "execution_count": null,
      "outputs": []
    },
    {
      "cell_type": "code",
      "metadata": {
        "id": "WWLJVkxuMJSt"
      },
      "source": [
        "out = square(4)"
      ],
      "execution_count": null,
      "outputs": []
    },
    {
      "cell_type": "code",
      "metadata": {
        "scrolled": true,
        "id": "lercBy3-MJSt"
      },
      "source": [
        "print(out)"
      ],
      "execution_count": null,
      "outputs": []
    },
    {
      "cell_type": "markdown",
      "metadata": {
        "id": "7t7DtfH4MJSr"
      },
      "source": [
        "## for Loops"
      ]
    },
    {
      "cell_type": "code",
      "metadata": {
        "id": "riG3_CERMJSr"
      },
      "source": [
        "seq = [1,2,3,4,5]"
      ],
      "execution_count": null,
      "outputs": []
    },
    {
      "cell_type": "code",
      "metadata": {
        "id": "hExCI-K_MJSr"
      },
      "source": [
        "for item in seq:\n",
        "    print(item)\n",
        "    print('_____')"
      ],
      "execution_count": null,
      "outputs": []
    },
    {
      "cell_type": "code",
      "metadata": {
        "id": "Xe_uKYKdMJSr"
      },
      "source": [
        "for item in seq:\n",
        "    print('Yep')"
      ],
      "execution_count": null,
      "outputs": []
    },
    {
      "cell_type": "code",
      "metadata": {
        "id": "x8ubn8DrMJSr"
      },
      "source": [
        "for cat in seq:\n",
        "    print(cat+cat)"
      ],
      "execution_count": null,
      "outputs": []
    },
    {
      "cell_type": "markdown",
      "metadata": {
        "id": "ejq6a4PGMJSr"
      },
      "source": [
        "## while Loops"
      ]
    },
    {
      "cell_type": "code",
      "metadata": {
        "id": "gJv73iu-MJSr"
      },
      "source": [
        "i = 1\n",
        "while i < 5:\n",
        "    print('i is: {}'.format(i))\n",
        "    i = i+1"
      ],
      "execution_count": null,
      "outputs": []
    },
    {
      "cell_type": "markdown",
      "metadata": {
        "id": "Q_i7kEV2MJSs"
      },
      "source": [
        "### list comprehension"
      ]
    },
    {
      "cell_type": "code",
      "metadata": {
        "id": "JqrF5U7tMJSs"
      },
      "source": [
        "x = [1,2,3,4]"
      ],
      "execution_count": null,
      "outputs": []
    },
    {
      "cell_type": "code",
      "metadata": {
        "id": "TsIibjXuMJSs"
      },
      "source": [
        "out = []\n",
        "for item in x:\n",
        "    out.append(item**2)\n",
        "print(out)"
      ],
      "execution_count": null,
      "outputs": []
    },
    {
      "cell_type": "code",
      "metadata": {
        "id": "_37j_Xp7MJSs"
      },
      "source": [
        "[item**2 for item in x]"
      ],
      "execution_count": null,
      "outputs": []
    },
    {
      "cell_type": "markdown",
      "metadata": {
        "id": "REZNQ8NKMJSt"
      },
      "source": [
        "## lambda expressions"
      ]
    },
    {
      "cell_type": "code",
      "metadata": {
        "id": "0wRQZ5KoMJSt"
      },
      "source": [
        "def times2(var):\n",
        "    return var*2"
      ],
      "execution_count": 1,
      "outputs": []
    },
    {
      "cell_type": "code",
      "metadata": {
        "id": "ijaMRYDAMJSu",
        "colab": {
          "base_uri": "https://localhost:8080/"
        },
        "outputId": "59d45189-9481-49fd-9279-4a118c84ae8f"
      },
      "source": [
        "times2(1234)"
      ],
      "execution_count": 2,
      "outputs": [
        {
          "output_type": "execute_result",
          "data": {
            "text/plain": [
              "2468"
            ]
          },
          "metadata": {},
          "execution_count": 2
        }
      ]
    },
    {
      "cell_type": "code",
      "metadata": {
        "id": "YDP9O-7MMJSu"
      },
      "source": [
        "times2_1 = lambda var: var*2"
      ],
      "execution_count": 3,
      "outputs": []
    },
    {
      "cell_type": "code",
      "metadata": {
        "id": "1OMoI0A2MJSu",
        "colab": {
          "base_uri": "https://localhost:8080/"
        },
        "outputId": "41ac32a6-9aae-407b-dde7-a0465ed768e5"
      },
      "source": [
        "times2_1(1234)"
      ],
      "execution_count": 4,
      "outputs": [
        {
          "output_type": "execute_result",
          "data": {
            "text/plain": [
              "2468"
            ]
          },
          "metadata": {},
          "execution_count": 4
        }
      ]
    },
    {
      "cell_type": "markdown",
      "metadata": {
        "id": "zcB8whp0MJSu"
      },
      "source": [
        "## map and filter"
      ]
    },
    {
      "cell_type": "code",
      "metadata": {
        "id": "fpD8Lf_cMJSu"
      },
      "source": [
        "seq = [1,2,3,4,5]"
      ],
      "execution_count": 5,
      "outputs": []
    },
    {
      "cell_type": "code",
      "metadata": {
        "id": "rYoZggccMJSu",
        "colab": {
          "base_uri": "https://localhost:8080/"
        },
        "outputId": "ea4a8c12-02b4-41d5-e00b-62ab18b93737"
      },
      "source": [
        "map(times2,seq)"
      ],
      "execution_count": 6,
      "outputs": [
        {
          "output_type": "execute_result",
          "data": {
            "text/plain": [
              "<map at 0x7f412631e810>"
            ]
          },
          "metadata": {},
          "execution_count": 6
        }
      ]
    },
    {
      "cell_type": "code",
      "metadata": {
        "id": "VFXLEP5rMJSu",
        "colab": {
          "base_uri": "https://localhost:8080/"
        },
        "outputId": "2297f1c4-1dff-4e9b-b2ab-26383cf00a50"
      },
      "source": [
        "list(map(times2_1,seq))"
      ],
      "execution_count": 7,
      "outputs": [
        {
          "output_type": "execute_result",
          "data": {
            "text/plain": [
              "[2, 4, 6, 8, 10]"
            ]
          },
          "metadata": {},
          "execution_count": 7
        }
      ]
    },
    {
      "cell_type": "code",
      "metadata": {
        "id": "LBi7Hxt1MJSu",
        "colab": {
          "base_uri": "https://localhost:8080/"
        },
        "outputId": "9bc9de9b-c757-4cd7-fbc5-6439bcbdc046"
      },
      "source": [
        "seq*2"
      ],
      "execution_count": 8,
      "outputs": [
        {
          "output_type": "execute_result",
          "data": {
            "text/plain": [
              "[1, 2, 3, 4, 5, 1, 2, 3, 4, 5]"
            ]
          },
          "metadata": {},
          "execution_count": 8
        }
      ]
    },
    {
      "cell_type": "code",
      "metadata": {
        "id": "H_QARuuJMJSv",
        "colab": {
          "base_uri": "https://localhost:8080/"
        },
        "outputId": "51474565-c2aa-4472-b0c9-795e57da9184"
      },
      "source": [
        "list(map(lambda var: var*2,seq))"
      ],
      "execution_count": 9,
      "outputs": [
        {
          "output_type": "execute_result",
          "data": {
            "text/plain": [
              "[2, 4, 6, 8, 10]"
            ]
          },
          "metadata": {},
          "execution_count": 9
        }
      ]
    },
    {
      "cell_type": "code",
      "metadata": {
        "id": "wmMLSPZxMJSv",
        "colab": {
          "base_uri": "https://localhost:8080/"
        },
        "outputId": "62ba938d-32b2-47e7-883c-5d94ebd43e51"
      },
      "source": [
        "filter(lambda item: item%2 == 0,seq)"
      ],
      "execution_count": 10,
      "outputs": [
        {
          "output_type": "execute_result",
          "data": {
            "text/plain": [
              "<filter at 0x7f41230bbb50>"
            ]
          },
          "metadata": {},
          "execution_count": 10
        }
      ]
    },
    {
      "cell_type": "code",
      "metadata": {
        "id": "uqDekTfmMJSv",
        "colab": {
          "base_uri": "https://localhost:8080/"
        },
        "outputId": "620b94de-19d5-4e47-8209-266c650ab2a8"
      },
      "source": [
        "list(filter(lambda item: item%2 == 0,seq))"
      ],
      "execution_count": 11,
      "outputs": [
        {
          "output_type": "execute_result",
          "data": {
            "text/plain": [
              "[2, 4]"
            ]
          },
          "metadata": {},
          "execution_count": 11
        }
      ]
    },
    {
      "cell_type": "markdown",
      "metadata": {
        "id": "qAuwE7VgMJSv"
      },
      "source": [
        "## methods"
      ]
    },
    {
      "cell_type": "code",
      "metadata": {
        "id": "0qwsOWnqMJSv"
      },
      "source": [
        "st = 'hello my name is SAM'"
      ],
      "execution_count": null,
      "outputs": []
    },
    {
      "cell_type": "code",
      "metadata": {
        "id": "ph3Ol0I7MJSv"
      },
      "source": [
        "st.lower()"
      ],
      "execution_count": null,
      "outputs": []
    },
    {
      "cell_type": "code",
      "metadata": {
        "id": "w652aCdaMJSv"
      },
      "source": [
        "st.upper()"
      ],
      "execution_count": null,
      "outputs": []
    },
    {
      "cell_type": "code",
      "metadata": {
        "id": "rFrd8tWkMJSv"
      },
      "source": [
        "st.split()"
      ],
      "execution_count": null,
      "outputs": []
    },
    {
      "cell_type": "code",
      "metadata": {
        "id": "tiNSElmvMJSv"
      },
      "source": [
        "tweet = 'Go Sports! #Sports'"
      ],
      "execution_count": null,
      "outputs": []
    },
    {
      "cell_type": "code",
      "metadata": {
        "id": "k3oM5fdSMJSv"
      },
      "source": [
        "tweet.split('#')"
      ],
      "execution_count": null,
      "outputs": []
    },
    {
      "cell_type": "code",
      "metadata": {
        "id": "JdP7WPjeMJSv"
      },
      "source": [
        "tweet.split('#')[1]"
      ],
      "execution_count": null,
      "outputs": []
    },
    {
      "cell_type": "code",
      "metadata": {
        "id": "ZHGJXbc-MJSv"
      },
      "source": [
        "d = {'key1': 'item1', 'key2': 'item2'}\n",
        "d"
      ],
      "execution_count": null,
      "outputs": []
    },
    {
      "cell_type": "code",
      "metadata": {
        "id": "42xLRZ6WMJSw"
      },
      "source": [
        "d.keys()"
      ],
      "execution_count": null,
      "outputs": []
    },
    {
      "cell_type": "code",
      "metadata": {
        "id": "QFu4IavpMJSw"
      },
      "source": [
        "d.items()"
      ],
      "execution_count": null,
      "outputs": []
    },
    {
      "cell_type": "code",
      "metadata": {
        "id": "5iHaJzV4MJSw"
      },
      "source": [
        "lst = [1,2,3]"
      ],
      "execution_count": null,
      "outputs": []
    },
    {
      "cell_type": "code",
      "metadata": {
        "id": "RUPIPxgsMJSw"
      },
      "source": [
        "lst.pop()"
      ],
      "execution_count": null,
      "outputs": []
    },
    {
      "cell_type": "code",
      "metadata": {
        "id": "15k6C_C0MJSw"
      },
      "source": [
        "lst"
      ],
      "execution_count": null,
      "outputs": []
    },
    {
      "cell_type": "code",
      "metadata": {
        "id": "kzBLssiqMJSw"
      },
      "source": [
        "'x' in [1,2,3]"
      ],
      "execution_count": null,
      "outputs": []
    },
    {
      "cell_type": "code",
      "metadata": {
        "id": "yX73qMO2MJSw"
      },
      "source": [
        "'x' in ['x','y','z']"
      ],
      "execution_count": null,
      "outputs": []
    },
    {
      "cell_type": "code",
      "metadata": {
        "id": "8i7ovp-HMJSw"
      },
      "source": [
        ""
      ],
      "execution_count": null,
      "outputs": []
    }
  ]
}